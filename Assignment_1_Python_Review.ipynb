{
  "cells": [
    {
      "cell_type": "markdown",
      "metadata": {
        "id": "view-in-github",
        "colab_type": "text"
      },
      "source": [
        "<a href=\"https://colab.research.google.com/github/AzeezFolorunsho/Into_to_Data_Science/blob/main/Assignment_1_Python_Review.ipynb\" target=\"_parent\"><img src=\"https://colab.research.google.com/assets/colab-badge.svg\" alt=\"Open In Colab\"/></a>"
      ]
    },
    {
      "cell_type": "markdown",
      "metadata": {
        "id": "V2m6hGDFiTTd"
      },
      "source": [
        "# **Hangman Python Refreser**"
      ]
    },
    {
      "cell_type": "markdown",
      "metadata": {
        "id": "7ASWm0ZVnNoT"
      },
      "source": [
        "# Imports"
      ]
    },
    {
      "cell_type": "code",
      "execution_count": 117,
      "metadata": {
        "id": "E46ylg_VnQMl"
      },
      "outputs": [],
      "source": [
        "import random"
      ]
    },
    {
      "cell_type": "markdown",
      "metadata": {
        "id": "Z_V9GmX5m8yD"
      },
      "source": [
        "# Creating a list from word_bank.txt\n",
        "\n",
        "Make sure \"word_bank.txt\" file is present"
      ]
    },
    {
      "cell_type": "code",
      "execution_count": 118,
      "metadata": {
        "id": "wlrl2Oggf4lw"
      },
      "outputs": [],
      "source": [
        "def get_list():\n",
        "  # creates an empty list to store words read from file\n",
        "  word_list = []\n",
        "  # opens file, loop through the lines and adds the files to the list\n",
        "  with open('word_bank.txt', 'r') as file:\n",
        "    for word in file:\n",
        "      word_list.append(word.strip())\n",
        "  # returns the list\n",
        "  return word_list"
      ]
    },
    {
      "cell_type": "markdown",
      "metadata": {
        "id": "C0tBjOzr9g9Q"
      },
      "source": [
        "# Global Variabes"
      ]
    },
    {
      "cell_type": "code",
      "execution_count": 119,
      "metadata": {
        "id": "p4tlcn9P9lD7"
      },
      "outputs": [],
      "source": [
        "# CONSTANTS\n",
        "max_guesses = 7\n",
        "random_word_list = get_list()\n",
        "runing = True\n",
        "\n",
        "# global variables, will be reset:\n",
        "\n",
        "# game variables\n",
        "random_word = random.choice(random_word_list)\n",
        "word_display = [\"_\" for i in range(len(random_word))]\n",
        "guess_count = 0\n",
        "game_result = \"\"\n",
        "leters_guessed = []\n",
        "\n",
        "# round varables\n",
        "game_info = []\n",
        "# eatch row contains: {\"game_result\": \"W/L\", \"leters_guessed\": []}\n"
      ]
    },
    {
      "cell_type": "markdown",
      "metadata": {
        "id": "m2p2ov7qHP_Q"
      },
      "source": [
        "# Reset game for another round"
      ]
    },
    {
      "cell_type": "code",
      "execution_count": 120,
      "metadata": {
        "id": "N3dSyLE_GRKv"
      },
      "outputs": [],
      "source": [
        "def reset_game():\n",
        "  global random_word, word_display, guess_count, game_result, leters_guessed, game_info\n",
        "\n",
        "  # reset global variables\n",
        "  random_word = random.choice(random_word_list)\n",
        "  word_display = [\"_\" for i in range(len(random_word))]\n",
        "  guess_count = 0\n",
        "  game_result = \"\"\n",
        "  leters_guessed = []"
      ]
    },
    {
      "cell_type": "markdown",
      "metadata": {
        "id": "WG9Xs4lqy3GJ"
      },
      "source": [
        "# Evaluating a guess"
      ]
    },
    {
      "cell_type": "code",
      "execution_count": 121,
      "metadata": {
        "id": "q0a0wCbvy7y5"
      },
      "outputs": [],
      "source": [
        "def evaluate_guess(letter):\n",
        "  global word_display, guess_count, leters_guessed\n",
        "\n",
        "  # save letter to runing list of guesed leters\n",
        "  leters_guessed.append(letter)\n",
        "\n",
        "  # checks if the letter is in the word, updates the woord_display,\n",
        "  # else increments guess counter\n",
        "  if letter in random_word:\n",
        "    for i, let in enumerate(random_word):\n",
        "      if letter == let:\n",
        "        word_display[i] = let\n",
        "  else:\n",
        "    guess_count += 1\n",
        "    print(f\"LETTER IS NOT IN THE WORD! \\n\")\n"
      ]
    },
    {
      "cell_type": "markdown",
      "metadata": {
        "id": "tvsGKa6aBKW0"
      },
      "source": [
        "# Displaying the game state"
      ]
    },
    {
      "cell_type": "code",
      "execution_count": 122,
      "metadata": {
        "id": "KrCIAZcy3ey3"
      },
      "outputs": [],
      "source": [
        "def display_game_state():\n",
        "\n",
        "  # creates a string from the word_display list\n",
        "  guess_str = \" \".join(word_display)\n",
        "\n",
        "  # reveals the curent word progress and remaing gueses\n",
        "  print(f\"The word is: {guess_str}\")\n",
        "  print(f\"guesses remaining: {guess_count}/{max_guesses} \\n\")"
      ]
    },
    {
      "cell_type": "markdown",
      "source": [
        "# Display game data"
      ],
      "metadata": {
        "id": "taEypX1O8eez"
      }
    },
    {
      "cell_type": "code",
      "source": [
        "def display_results():\n",
        "\n",
        "  # inistatncating game data tracking varables\n",
        "\n",
        "  games_count = len(game_info)\n",
        "\n",
        "  game_guess_count = []\n",
        "\n",
        "  alphabet_dict = {\n",
        "    'a': 0, 'b': 0, 'c': 0, 'd': 0, 'e': 0, 'f': 0, 'g': 0, 'h': 0, 'i': 0,\n",
        "    'j': 0, 'k': 0, 'l': 0, 'm': 0, 'n': 0, 'o': 0, 'p': 0, 'q': 0, 'r': 0,\n",
        "    's': 0, 't': 0, 'u': 0, 'v': 0, 'w': 0, 'x': 0, 'y': 0, 'z': 0\n",
        "  }\n",
        "\n",
        "  wins = 0\n",
        "\n",
        "  # loops through eatch row in game_info, append the number of gueses the game took,\n",
        "  # increment win count if game was won,\n",
        "  # and loops through letters guessed and increment apropreat letter in alphabet_dict\n",
        "\n",
        "  for i in range(len(game_info)):\n",
        "\n",
        "    game_guess_count.append(len(game_info[i][\"leters_guessed\"]))\n",
        "\n",
        "    if game_info[i][\"game_result\"] == \"W\":\n",
        "      wins += 1\n",
        "\n",
        "    for j in game_info[i][\"leters_guessed\"]:\n",
        "      if j in alphabet_dict.keys():\n",
        "        alphabet_dict[j] += 1\n",
        "\n",
        "\n",
        "  total_guess_count = sum(game_guess_count)\n",
        "\n",
        "  print(f\"\\n-------GAME INFORMATION------- \\n\")\n",
        "  print(f\"The toatl number of games played: {games_count}\")\n",
        "  print(f\"The win rate is: {games_count / wins}\")\n",
        "  print(f\"The average number of guessses is: {total_guess_count / games_count}\")\n",
        "  print(f\"The number of times eatch leter was guessed: \\n{alphabet_dict} \\n\")"
      ],
      "metadata": {
        "id": "FdlQq59U8jMz"
      },
      "execution_count": 123,
      "outputs": []
    },
    {
      "cell_type": "markdown",
      "metadata": {
        "id": "B6F1v3t5ru32"
      },
      "source": [
        "# The Main Loop"
      ]
    },
    {
      "cell_type": "code",
      "execution_count": null,
      "metadata": {
        "id": "r1Qx1ibtruTV"
      },
      "outputs": [],
      "source": [
        "while runing:\n",
        "  # ask for an letter from the user and make sure it a string\n",
        "  curent_letter = str(input(\"Enter a letter: \")).lower()\n",
        "  print()\n",
        "\n",
        "  # makes sure the guess is only 1 letter long and in the alphabet then evalustes it and diplays the game state,\n",
        "  # else prints a warning and allows them to try again\n",
        "  if len(curent_letter) == 1 and curent_letter in \"qwertyuiopasdfghjklzxcvbnm\" and curent_letter not in leters_guessed:\n",
        "    evaluate_guess(curent_letter)\n",
        "    display_game_state()\n",
        "  else:\n",
        "    print(\"MUST ENTER 1 NEW LETTER!, Try again \\n\")\n",
        "\n",
        "  # checks if game is over, and prints massage acordingly\n",
        "  if \"_\" not in word_display:\n",
        "    game_result = \"W\"\n",
        "    print(f\"YOU WON!!! The word was '{random_word}'\\n\")\n",
        "  elif guess_count == max_guesses:\n",
        "    game_result = \"L\"\n",
        "    print(f\"You lost =( The word was '{random_word}'\\\\n\")\n",
        "\n",
        "  # determind wether or not to restart the game\n",
        "  if game_result:\n",
        "\n",
        "    # save round info\n",
        "    game_info.append({\"game_result\": game_result, \"leters_guessed\": leters_guessed})\n",
        "\n",
        "    # ask user if they want to restart, keep sking untill valid answer is given an act acordiningly\n",
        "    is_restarting = is_restarting = str(input(\"Do you want to restart? (Y or N): \")).upper()\n",
        "\n",
        "    while is_restarting != \"\":\n",
        "\n",
        "      if is_restarting == \"Y\":\n",
        "        is_restarting = \"\"\n",
        "        reset_game()\n",
        "      elif is_restarting == \"N\":\n",
        "        # displays game data here\n",
        "        is_restarting = \"\"\n",
        "        display_results()\n",
        "        runing = False\n",
        "      else:\n",
        "        is_restarting = str(input(\"Do you want to restart? (Y or N):\")).upper()\n",
        "\n",
        "    print()"
      ]
    }
  ],
  "metadata": {
    "colab": {
      "provenance": [],
      "authorship_tag": "ABX9TyNu2mFes9/SvXDmdQ7bEB4Q",
      "include_colab_link": true
    },
    "kernelspec": {
      "display_name": "Python 3",
      "name": "python3"
    },
    "language_info": {
      "name": "python"
    }
  },
  "nbformat": 4,
  "nbformat_minor": 0
}